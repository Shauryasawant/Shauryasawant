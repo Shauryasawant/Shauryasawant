{
  "nbformat": 4,
  "nbformat_minor": 0,
  "metadata": {
    "colab": {
      "provenance": [],
      "authorship_tag": "ABX9TyNbktgZfJzPExmWO5h23caC",
      "include_colab_link": true
    },
    "kernelspec": {
      "name": "python3",
      "display_name": "Python 3"
    },
    "language_info": {
      "name": "python"
    }
  },
  "cells": [
    {
      "cell_type": "markdown",
      "metadata": {
        "id": "view-in-github",
        "colab_type": "text"
      },
      "source": [
        "<a href=\"https://colab.research.google.com/github/Shauryasawant/Shauryasawant/blob/main/Hyundai_Glovis1.ipynb\" target=\"_parent\"><img src=\"https://colab.research.google.com/assets/colab-badge.svg\" alt=\"Open In Colab\"/></a>"
      ]
    },
    {
      "cell_type": "code",
      "source": [
        "import requests\n",
        "from bs4 import BeautifulSoup\n",
        "import csv\n",
        "from google.colab import files\n",
        "\n",
        "url = \"https://www.glovis.net/Eng/network/contentsid/241/index.do\"\n",
        "\n",
        "# Send a GET request to the URL\n",
        "response = requests.get(url)\n",
        "\n",
        "# Check if request was successful\n",
        "if response.status_code == 200:\n",
        "    # Parse the HTML content\n",
        "    soup = BeautifulSoup(response.content, 'html.parser')\n",
        "\n",
        "    # Find all unordered lists with class 'nwList global'\n",
        "    nw_lists = soup.find_all('ul', class_='nwList global')\n",
        "\n",
        "    # Initialize a list to store all location data\n",
        "    all_locations = []\n",
        "\n",
        "    # Iterate through each <ul> with class 'nwList global'\n",
        "    for nw_list in nw_lists:\n",
        "        # Find preceding <p class=\"subTit\">Branch</p> or similar tag\n",
        "        sub_title = nw_list.find_previous_sibling('p', class_='subTit')\n",
        "        if sub_title:\n",
        "            sub_title_text = sub_title.text.strip()\n",
        "        else:\n",
        "            sub_title_text = \"\"\n",
        "\n",
        "        # Initialize a dictionary to store location data for this section\n",
        "        section_locations = {\n",
        "            'sub_title': sub_title_text,\n",
        "            'locations': []\n",
        "        }\n",
        "\n",
        "        # Find all list items within the unordered list\n",
        "        items = nw_list.find_all('li')\n",
        "\n",
        "        for item in items:\n",
        "            # Extract name and address from each item\n",
        "            name = item.find('p', class_='name').text.strip()\n",
        "            address = item.find('p', class_='address').text.strip()\n",
        "\n",
        "            # Append the extracted data as a dictionary to the locations list\n",
        "            section_locations['locations'].append({\n",
        "                'name': name,\n",
        "                'address': address\n",
        "            })\n",
        "\n",
        "        # Append this section's data to all_locations\n",
        "        all_locations.append(section_locations)\n",
        "\n",
        "    # Write the scraped data to a CSV file\n",
        "    filename = 'locations.csv'\n",
        "    with open(filename, 'w', newline='', encoding='utf-8') as csvfile:\n",
        "        fieldnames = ['sub_title', 'name', 'address']\n",
        "        writer = csv.DictWriter(csvfile, fieldnames=fieldnames)\n",
        "\n",
        "        # Write headers\n",
        "        writer.writeheader()\n",
        "\n",
        "        # Write data\n",
        "        for entry in all_locations:\n",
        "            for location in entry['locations']:\n",
        "                writer.writerow({\n",
        "                    'sub_title': entry['sub_title'],\n",
        "                    'name': location['name'],\n",
        "                    'address': location['address']\n",
        "                })\n",
        "\n",
        "    # Download the CSV file in Google Colab\n",
        "    files.download(filename)\n",
        "\n",
        "    print(f\"Data has been scraped and saved. Downloaded file: {filename}\")\n",
        "\n",
        "else:\n",
        "    print(\"Failed to retrieve the webpage.\")\n"
      ],
      "metadata": {
        "colab": {
          "base_uri": "https://localhost:8080/",
          "height": 35
        },
        "id": "-7qb995lrWvI",
        "outputId": "eb61a3d4-88e7-4731-c90a-eff482b0b8d9"
      },
      "execution_count": null,
      "outputs": [
        {
          "output_type": "display_data",
          "data": {
            "text/plain": [
              "<IPython.core.display.Javascript object>"
            ],
            "application/javascript": [
              "\n",
              "    async function download(id, filename, size) {\n",
              "      if (!google.colab.kernel.accessAllowed) {\n",
              "        return;\n",
              "      }\n",
              "      const div = document.createElement('div');\n",
              "      const label = document.createElement('label');\n",
              "      label.textContent = `Downloading \"${filename}\": `;\n",
              "      div.appendChild(label);\n",
              "      const progress = document.createElement('progress');\n",
              "      progress.max = size;\n",
              "      div.appendChild(progress);\n",
              "      document.body.appendChild(div);\n",
              "\n",
              "      const buffers = [];\n",
              "      let downloaded = 0;\n",
              "\n",
              "      const channel = await google.colab.kernel.comms.open(id);\n",
              "      // Send a message to notify the kernel that we're ready.\n",
              "      channel.send({})\n",
              "\n",
              "      for await (const message of channel.messages) {\n",
              "        // Send a message to notify the kernel that we're ready.\n",
              "        channel.send({})\n",
              "        if (message.buffers) {\n",
              "          for (const buffer of message.buffers) {\n",
              "            buffers.push(buffer);\n",
              "            downloaded += buffer.byteLength;\n",
              "            progress.value = downloaded;\n",
              "          }\n",
              "        }\n",
              "      }\n",
              "      const blob = new Blob(buffers, {type: 'application/binary'});\n",
              "      const a = document.createElement('a');\n",
              "      a.href = window.URL.createObjectURL(blob);\n",
              "      a.download = filename;\n",
              "      div.appendChild(a);\n",
              "      a.click();\n",
              "      div.remove();\n",
              "    }\n",
              "  "
            ]
          },
          "metadata": {}
        },
        {
          "output_type": "display_data",
          "data": {
            "text/plain": [
              "<IPython.core.display.Javascript object>"
            ],
            "application/javascript": [
              "download(\"download_5e5444d9-7168-48a1-8e65-a6fa10ed826c\", \"locations.csv\", 9056)"
            ]
          },
          "metadata": {}
        },
        {
          "output_type": "stream",
          "name": "stdout",
          "text": [
            "Data has been scraped and saved. Downloaded file: locations.csv\n"
          ]
        }
      ]
    }
  ]
}